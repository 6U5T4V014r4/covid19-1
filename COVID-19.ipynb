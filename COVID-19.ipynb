{
 "cells": [
  {
   "cell_type": "markdown",
   "metadata": {
    "toc": true
   },
   "source": [
    "<h1>Contents<span class=\"tocSkip\"></span></h1>\n",
    "<div class=\"toc\"><ul class=\"toc-item\"><li><span><a href=\"#Setup\" data-toc-modified-id=\"Setup-1\"><span class=\"toc-item-num\">1&nbsp;&nbsp;</span>Setup</a></span><ul class=\"toc-item\"><li><span><a href=\"#Process-and-add-up-all-provinces/states-into-one-row-per-country\" data-toc-modified-id=\"Process-and-add-up-all-provinces/states-into-one-row-per-country-1.1\"><span class=\"toc-item-num\">1.1&nbsp;&nbsp;</span>Process and add up all provinces/states into one row per country</a></span></li><li><span><a href=\"#List-of-all-affected-countries\" data-toc-modified-id=\"List-of-all-affected-countries-1.2\"><span class=\"toc-item-num\">1.2&nbsp;&nbsp;</span>List of all affected countries</a></span></li></ul></li><li><span><a href=\"#Current-situation-plots\" data-toc-modified-id=\"Current-situation-plots-2\"><span class=\"toc-item-num\">2&nbsp;&nbsp;</span>Current situation plots</a></span><ul class=\"toc-item\"><li><span><a href=\"#Plot-trends-over-calendar-date-in-selected-countries\" data-toc-modified-id=\"Plot-trends-over-calendar-date-in-selected-countries-2.1\"><span class=\"toc-item-num\">2.1&nbsp;&nbsp;</span>Plot trends over calendar date in selected countries</a></span></li><li><span><a href=\"#Plot-trends-over-days-since-start-of-local-outbreak-in-selected-countries\" data-toc-modified-id=\"Plot-trends-over-days-since-start-of-local-outbreak-in-selected-countries-2.2\"><span class=\"toc-item-num\">2.2&nbsp;&nbsp;</span>Plot trends over days since start of local outbreak in selected countries</a></span></li><li><span><a href=\"#Case-fatality-rate-per-country\" data-toc-modified-id=\"Case-fatality-rate-per-country-2.3\"><span class=\"toc-item-num\">2.3&nbsp;&nbsp;</span>Case fatality rate per country</a></span></li><li><span><a href=\"#Cases-by-continent\" data-toc-modified-id=\"Cases-by-continent-2.4\"><span class=\"toc-item-num\">2.4&nbsp;&nbsp;</span>Cases by continent</a></span></li><li><span><a href=\"#Smoothed-growth-factor\" data-toc-modified-id=\"Smoothed-growth-factor-2.5\"><span class=\"toc-item-num\">2.5&nbsp;&nbsp;</span>Smoothed growth factor</a></span></li><li><span><a href=\"#New-confirmed/Active-case-ratio\" data-toc-modified-id=\"New-confirmed/Active-case-ratio-2.6\"><span class=\"toc-item-num\">2.6&nbsp;&nbsp;</span>New confirmed/Active case ratio</a></span></li><li><span><a href=\"#Stats-for-some-other-countries,-using-linear-scale\" data-toc-modified-id=\"Stats-for-some-other-countries,-using-linear-scale-2.7\"><span class=\"toc-item-num\">2.7&nbsp;&nbsp;</span>Stats for some other countries, using linear scale</a></span></li><li><span><a href=\"#Pie-charts\" data-toc-modified-id=\"Pie-charts-2.8\"><span class=\"toc-item-num\">2.8&nbsp;&nbsp;</span>Pie charts</a></span></li><li><span><a href=\"#Country-highlight\" data-toc-modified-id=\"Country-highlight-2.9\"><span class=\"toc-item-num\">2.9&nbsp;&nbsp;</span>Country highlight</a></span></li></ul></li><li><span><a href=\"#Forecast-plots\" data-toc-modified-id=\"Forecast-plots-3\"><span class=\"toc-item-num\">3&nbsp;&nbsp;</span>Forecast plots</a></span><ul class=\"toc-item\"><li><span><a href=\"#Fit-a-logistic-curve-and-extrapolate-number-of-future-cases\" data-toc-modified-id=\"Fit-a-logistic-curve-and-extrapolate-number-of-future-cases-3.1\"><span class=\"toc-item-num\">3.1&nbsp;&nbsp;</span>Fit a logistic curve and extrapolate number of future cases</a></span></li><li><span><a href=\"#Modelling-fatality-probability-per-day-of-being-infected\" data-toc-modified-id=\"Modelling-fatality-probability-per-day-of-being-infected-3.2\"><span class=\"toc-item-num\">3.2&nbsp;&nbsp;</span>Modelling fatality probability per day of being infected</a></span></li><li><span><a href=\"#Generate-history-of-active-cases;-how-many-people-have-been-sick-for-how-long?\" data-toc-modified-id=\"Generate-history-of-active-cases;-how-many-people-have-been-sick-for-how-long?-3.3\"><span class=\"toc-item-num\">3.3&nbsp;&nbsp;</span>Generate history of active cases; how many people have been sick for how long?</a></span></li><li><span><a href=\"#Simulate-future-development-based-on-history-and-probability-models\" data-toc-modified-id=\"Simulate-future-development-based-on-history-and-probability-models-3.4\"><span class=\"toc-item-num\">3.4&nbsp;&nbsp;</span>Simulate future development based on history and probability models</a></span></li></ul></li></ul></div>"
   ]
  },
  {
   "cell_type": "markdown",
   "metadata": {
    "hide_input": false
   },
   "source": [
    "# COVID-19 data visualization\n",
    "\n",
    "This generates a series of visualizations from the raw data tables, showing some aspects of the ongoing Covid-19 epidemic that I couldn't find in other reports. Data from Johns Hopkins University.\n",
    "\n",
    "An earlier version of the plot of cases per country since the start of the local outbreak was shared on Reddit [here](https://www.reddit.com/r/dataisbeautiful/comments/ff9jn4/oc_number_of_cases_per_country_counting_from_the/).   Another plot, of the average growth factor per country, was posted [here](https://www.reddit.com/r/dataisbeautiful/comments/fliec2/oc_covid19_growth_factor_over_time_in_various/).\n",
    "\n",
    "Note that the Table of Contents links above don't work in the Github preview, but they do on [nbviewer](https://nbviewer.jupyter.org/github/JeroenKools/covid19/tree/master/).\n",
    "\n",
    "Want to see these graphs for some other countries, or modify the values for the simulations? The easiest and quickest way to run the notebook and make modifications yourself is to open this notebook in [Colab](https://colab.research.google.com/github/JeroenKools/covid19/blob/master/COVID-19.ipynb)."
   ]
  },
  {
   "cell_type": "markdown",
   "metadata": {
    "hide_input": false
   },
   "source": [
    "## Setup"
   ]
  },
  {
   "cell_type": "markdown",
   "metadata": {},
   "source": [
    "Import code and parameters from [`covid19_util.py`](covid19_util.py) and [`covid_processing.py`](covid19_processing.py)."
   ]
  },
  {
   "cell_type": "code",
   "execution_count": 1,
   "metadata": {
    "ExecuteTime": {
     "end_time": "2020-03-29T23:58:42.945700Z",
     "start_time": "2020-03-29T23:58:33.287925Z"
    },
    "code_folding": [],
    "hide_input": false
   },
   "outputs": [],
   "source": [
    "%load_ext autoreload\n",
    "%autoreload 2\n",
    "import sys\n",
    "is_colab = 'google.colab' in sys.modules\n",
    "if is_colab and not \"covid19\" in sys.path:\n",
    "  try:\n",
    "    !git clone https://github.com/JeroenKools/covid19.git\n",
    "  except e: pass\n",
    "  sys.path.append(\"covid19\")\n",
    "from covid19_util import *\n",
    "from covid19_processing import *"
   ]
  },
  {
   "cell_type": "code",
   "execution_count": 2,
   "metadata": {
    "ExecuteTime": {
     "end_time": "2020-03-29T23:58:47.306693Z",
     "start_time": "2020-03-29T23:58:42.946701Z"
    },
    "code_folding": [],
    "hide_input": false
   },
   "outputs": [
    {
     "data": {
      "text/markdown": [
       "### Raw confirmed cases data, per region/state"
      ],
      "text/plain": [
       "<IPython.core.display.Markdown object>"
      ]
     },
     "metadata": {},
     "output_type": "display_data"
    },
    {
     "data": {
      "text/html": [
       "<div>\n",
       "<style scoped>\n",
       "    .dataframe tbody tr th:only-of-type {\n",
       "        vertical-align: middle;\n",
       "    }\n",
       "\n",
       "    .dataframe tbody tr th {\n",
       "        vertical-align: top;\n",
       "    }\n",
       "\n",
       "    .dataframe thead th {\n",
       "        text-align: right;\n",
       "    }\n",
       "</style>\n",
       "<table border=\"1\" class=\"dataframe\">\n",
       "  <thead>\n",
       "    <tr style=\"text-align: right;\">\n",
       "      <th></th>\n",
       "      <th>Province/State</th>\n",
       "      <th>Country/Region</th>\n",
       "      <th>Lat</th>\n",
       "      <th>Long</th>\n",
       "      <th>1/22/20</th>\n",
       "      <th>1/23/20</th>\n",
       "      <th>1/24/20</th>\n",
       "      <th>...</th>\n",
       "      <th>3/22/20</th>\n",
       "      <th>3/23/20</th>\n",
       "      <th>3/24/20</th>\n",
       "      <th>3/25/20</th>\n",
       "      <th>3/26/20</th>\n",
       "      <th>3/27/20</th>\n",
       "      <th>3/28/20</th>\n",
       "    </tr>\n",
       "  </thead>\n",
       "  <tbody>\n",
       "    <tr>\n",
       "      <th>0</th>\n",
       "      <td>NaN</td>\n",
       "      <td>Afghanistan</td>\n",
       "      <td>33.0000</td>\n",
       "      <td>65.0000</td>\n",
       "      <td>0</td>\n",
       "      <td>0</td>\n",
       "      <td>0</td>\n",
       "      <td>...</td>\n",
       "      <td>40</td>\n",
       "      <td>40</td>\n",
       "      <td>74</td>\n",
       "      <td>84</td>\n",
       "      <td>94</td>\n",
       "      <td>110</td>\n",
       "      <td>110</td>\n",
       "    </tr>\n",
       "    <tr>\n",
       "      <th>1</th>\n",
       "      <td>NaN</td>\n",
       "      <td>Albania</td>\n",
       "      <td>41.1533</td>\n",
       "      <td>20.1683</td>\n",
       "      <td>0</td>\n",
       "      <td>0</td>\n",
       "      <td>0</td>\n",
       "      <td>...</td>\n",
       "      <td>89</td>\n",
       "      <td>104</td>\n",
       "      <td>123</td>\n",
       "      <td>146</td>\n",
       "      <td>174</td>\n",
       "      <td>186</td>\n",
       "      <td>197</td>\n",
       "    </tr>\n",
       "    <tr>\n",
       "      <th>2</th>\n",
       "      <td>NaN</td>\n",
       "      <td>Algeria</td>\n",
       "      <td>28.0339</td>\n",
       "      <td>1.6596</td>\n",
       "      <td>0</td>\n",
       "      <td>0</td>\n",
       "      <td>0</td>\n",
       "      <td>...</td>\n",
       "      <td>201</td>\n",
       "      <td>230</td>\n",
       "      <td>264</td>\n",
       "      <td>302</td>\n",
       "      <td>367</td>\n",
       "      <td>409</td>\n",
       "      <td>454</td>\n",
       "    </tr>\n",
       "    <tr>\n",
       "      <th>3</th>\n",
       "      <td>NaN</td>\n",
       "      <td>Andorra</td>\n",
       "      <td>42.5063</td>\n",
       "      <td>1.5218</td>\n",
       "      <td>0</td>\n",
       "      <td>0</td>\n",
       "      <td>0</td>\n",
       "      <td>...</td>\n",
       "      <td>113</td>\n",
       "      <td>133</td>\n",
       "      <td>164</td>\n",
       "      <td>188</td>\n",
       "      <td>224</td>\n",
       "      <td>267</td>\n",
       "      <td>308</td>\n",
       "    </tr>\n",
       "    <tr>\n",
       "      <th>4</th>\n",
       "      <td>NaN</td>\n",
       "      <td>Angola</td>\n",
       "      <td>-11.2027</td>\n",
       "      <td>17.8739</td>\n",
       "      <td>0</td>\n",
       "      <td>0</td>\n",
       "      <td>0</td>\n",
       "      <td>...</td>\n",
       "      <td>2</td>\n",
       "      <td>3</td>\n",
       "      <td>3</td>\n",
       "      <td>3</td>\n",
       "      <td>4</td>\n",
       "      <td>4</td>\n",
       "      <td>5</td>\n",
       "    </tr>\n",
       "    <tr>\n",
       "      <th>...</th>\n",
       "      <td>...</td>\n",
       "      <td>...</td>\n",
       "      <td>...</td>\n",
       "      <td>...</td>\n",
       "      <td>...</td>\n",
       "      <td>...</td>\n",
       "      <td>...</td>\n",
       "      <td>...</td>\n",
       "      <td>...</td>\n",
       "      <td>...</td>\n",
       "      <td>...</td>\n",
       "      <td>...</td>\n",
       "      <td>...</td>\n",
       "      <td>...</td>\n",
       "      <td>...</td>\n",
       "    </tr>\n",
       "    <tr>\n",
       "      <th>248</th>\n",
       "      <td>NaN</td>\n",
       "      <td>Burma</td>\n",
       "      <td>21.9162</td>\n",
       "      <td>95.9560</td>\n",
       "      <td>0</td>\n",
       "      <td>0</td>\n",
       "      <td>0</td>\n",
       "      <td>...</td>\n",
       "      <td>0</td>\n",
       "      <td>0</td>\n",
       "      <td>0</td>\n",
       "      <td>0</td>\n",
       "      <td>0</td>\n",
       "      <td>8</td>\n",
       "      <td>8</td>\n",
       "    </tr>\n",
       "    <tr>\n",
       "      <th>249</th>\n",
       "      <td>Anguilla</td>\n",
       "      <td>United Kingdom</td>\n",
       "      <td>18.2206</td>\n",
       "      <td>-63.0686</td>\n",
       "      <td>0</td>\n",
       "      <td>0</td>\n",
       "      <td>0</td>\n",
       "      <td>...</td>\n",
       "      <td>0</td>\n",
       "      <td>0</td>\n",
       "      <td>0</td>\n",
       "      <td>0</td>\n",
       "      <td>0</td>\n",
       "      <td>0</td>\n",
       "      <td>2</td>\n",
       "    </tr>\n",
       "    <tr>\n",
       "      <th>250</th>\n",
       "      <td>British Virgin Islands</td>\n",
       "      <td>United Kingdom</td>\n",
       "      <td>18.4207</td>\n",
       "      <td>-64.6400</td>\n",
       "      <td>0</td>\n",
       "      <td>0</td>\n",
       "      <td>0</td>\n",
       "      <td>...</td>\n",
       "      <td>0</td>\n",
       "      <td>0</td>\n",
       "      <td>0</td>\n",
       "      <td>0</td>\n",
       "      <td>0</td>\n",
       "      <td>0</td>\n",
       "      <td>2</td>\n",
       "    </tr>\n",
       "    <tr>\n",
       "      <th>251</th>\n",
       "      <td>Turks and Caicos Islands</td>\n",
       "      <td>United Kingdom</td>\n",
       "      <td>21.6940</td>\n",
       "      <td>-71.7979</td>\n",
       "      <td>0</td>\n",
       "      <td>0</td>\n",
       "      <td>0</td>\n",
       "      <td>...</td>\n",
       "      <td>0</td>\n",
       "      <td>0</td>\n",
       "      <td>0</td>\n",
       "      <td>0</td>\n",
       "      <td>0</td>\n",
       "      <td>0</td>\n",
       "      <td>4</td>\n",
       "    </tr>\n",
       "    <tr>\n",
       "      <th>252</th>\n",
       "      <td>NaN</td>\n",
       "      <td>MS Zaandam</td>\n",
       "      <td>0.0000</td>\n",
       "      <td>0.0000</td>\n",
       "      <td>0</td>\n",
       "      <td>0</td>\n",
       "      <td>0</td>\n",
       "      <td>...</td>\n",
       "      <td>0</td>\n",
       "      <td>0</td>\n",
       "      <td>0</td>\n",
       "      <td>0</td>\n",
       "      <td>0</td>\n",
       "      <td>0</td>\n",
       "      <td>2</td>\n",
       "    </tr>\n",
       "  </tbody>\n",
       "</table>\n",
       "<p>253 rows × 71 columns</p>\n",
       "</div>"
      ],
      "text/plain": [
       "               Province/State  Country/Region      Lat     Long  1/22/20  \\\n",
       "0                         NaN     Afghanistan  33.0000  65.0000        0   \n",
       "1                         NaN         Albania  41.1533  20.1683        0   \n",
       "2                         NaN         Algeria  28.0339   1.6596        0   \n",
       "3                         NaN         Andorra  42.5063   1.5218        0   \n",
       "4                         NaN          Angola -11.2027  17.8739        0   \n",
       "..                        ...             ...      ...      ...      ...   \n",
       "248                       NaN           Burma  21.9162  95.9560        0   \n",
       "249                  Anguilla  United Kingdom  18.2206 -63.0686        0   \n",
       "250    British Virgin Islands  United Kingdom  18.4207 -64.6400        0   \n",
       "251  Turks and Caicos Islands  United Kingdom  21.6940 -71.7979        0   \n",
       "252                       NaN      MS Zaandam   0.0000   0.0000        0   \n",
       "\n",
       "     1/23/20  1/24/20  ...  3/22/20  3/23/20  3/24/20  3/25/20  3/26/20  \\\n",
       "0          0        0  ...       40       40       74       84       94   \n",
       "1          0        0  ...       89      104      123      146      174   \n",
       "2          0        0  ...      201      230      264      302      367   \n",
       "3          0        0  ...      113      133      164      188      224   \n",
       "4          0        0  ...        2        3        3        3        4   \n",
       "..       ...      ...  ...      ...      ...      ...      ...      ...   \n",
       "248        0        0  ...        0        0        0        0        0   \n",
       "249        0        0  ...        0        0        0        0        0   \n",
       "250        0        0  ...        0        0        0        0        0   \n",
       "251        0        0  ...        0        0        0        0        0   \n",
       "252        0        0  ...        0        0        0        0        0   \n",
       "\n",
       "     3/27/20  3/28/20  \n",
       "0        110      110  \n",
       "1        186      197  \n",
       "2        409      454  \n",
       "3        267      308  \n",
       "4          4        5  \n",
       "..       ...      ...  \n",
       "248        8        8  \n",
       "249        0        2  \n",
       "250        0        2  \n",
       "251        0        4  \n",
       "252        0        2  \n",
       "\n",
       "[253 rows x 71 columns]"
      ]
     },
     "metadata": {},
     "output_type": "display_data"
    }
   ],
   "source": [
    "data = Covid19Processing()"
   ]
  },
  {
   "cell_type": "markdown",
   "metadata": {},
   "source": [
    "### Process and add up all provinces/states into one row per country \n",
    "\n",
    "This also adds in a few data points for China from before the start of the Johns Hopkins data, from [Wikipedia](https://en.wikipedia.org/wiki/Timeline_of_the_2019%E2%80%9320_coronavirus_outbreak_in_December_2019_%E2%80%93_January_2020).\n",
    "\n",
    "Then, display summaries of the confirmed cases by country and by continent."
   ]
  },
  {
   "cell_type": "code",
   "execution_count": null,
   "metadata": {
    "ExecuteTime": {
     "start_time": "2020-03-29T23:58:33.190Z"
    },
    "code_folding": [],
    "hide_input": false,
    "scrolled": false
   },
   "outputs": [],
   "source": [
    "data.process(rows=20, debug=False)"
   ]
  },
  {
   "cell_type": "markdown",
   "metadata": {},
   "source": [
    "### List of all affected countries"
   ]
  },
  {
   "cell_type": "code",
   "execution_count": null,
   "metadata": {
    "ExecuteTime": {
     "start_time": "2020-03-29T23:58:33.207Z"
    },
    "code_folding": [],
    "hide_input": false
   },
   "outputs": [],
   "source": [
    "data.list_countries()"
   ]
  },
  {
   "cell_type": "markdown",
   "metadata": {},
   "source": [
    "## Current situation plots"
   ]
  },
  {
   "cell_type": "markdown",
   "metadata": {},
   "source": [
    "### Plot trends over calendar date in selected countries"
   ]
  },
  {
   "cell_type": "code",
   "execution_count": null,
   "metadata": {
    "ExecuteTime": {
     "start_time": "2020-03-29T23:58:33.210Z"
    },
    "scrolled": false
   },
   "outputs": [],
   "source": [
    "countries_to_plot = [\"China\", \"Japan\", \"South Korea\", \"United States\", \"Italy\", \"Iran\", \"Germany\",\n",
    "                     \"France\", \"Spain\", \"Netherlands\", \"United Kingdom\", \"World\"]\n",
    "\n",
    "for y_metric in [\"confirmed\", \"deaths\", \"active\"]:\n",
    "    data.plot(\"calendar_date\", y_metric, countries_to_plot)"
   ]
  },
  {
   "cell_type": "markdown",
   "metadata": {},
   "source": [
    "### Plot trends over days since start of local outbreak in selected countries"
   ]
  },
  {
   "cell_type": "code",
   "execution_count": null,
   "metadata": {
    "ExecuteTime": {
     "start_time": "2020-03-29T23:58:33.256Z"
    },
    "scrolled": false
   },
   "outputs": [],
   "source": [
    "data.plot(\"day_number\", \"confirmed\", countries_to_plot, min_cases=100)\n",
    "data.plot(\"day_number\", \"deaths\", countries_to_plot, min_cases=3)\n",
    "data.plot(\"day_number\", \"active\", countries_to_plot, min_cases=40)"
   ]
  },
  {
   "cell_type": "markdown",
   "metadata": {},
   "source": [
    "### Case fatality rate per country"
   ]
  },
  {
   "cell_type": "code",
   "execution_count": null,
   "metadata": {
    "ExecuteTime": {
     "start_time": "2020-03-29T23:58:33.259Z"
    },
    "scrolled": false
   },
   "outputs": [],
   "source": [
    "data.plot(\"day_number\", \"deaths/confirmed\", countries_to_plot, min_cases=100, use_log_scale=False)"
   ]
  },
  {
   "cell_type": "markdown",
   "metadata": {},
   "source": [
    "### Cases by continent"
   ]
  },
  {
   "cell_type": "code",
   "execution_count": null,
   "metadata": {
    "ExecuteTime": {
     "start_time": "2020-03-29T23:58:33.295Z"
    },
    "scrolled": false
   },
   "outputs": [],
   "source": [
    "continents = [\"Asia\", \"Europe\", \"Africa\", \"North America\", \"South America\", \"Oceania\"]\n",
    "\n",
    "for y_metric in [\"confirmed\", \"deaths\", \"active\", \"new confirmed\"]:\n",
    "    data.plot(\"calendar_date\", y_metric, continents, fixed_country_colors=False)"
   ]
  },
  {
   "cell_type": "markdown",
   "metadata": {},
   "source": [
    "### Smoothed growth factor\n",
    "\n",
    "The growth factor is the multiplier for the number of **new** cases per day. <br>For example, if there are 100 new cases on day *n* and 150 new cases on day *n+1*, the growth factor is 1.5.\n",
    "\n",
    "* A growth factor larger than 1 means the outbreak is accelerating; it is growing exponentially.\n",
    "* A growth factor of 1 means the outbreak is growing linearly.\n",
    "* A growth factor of less than 1 means the outbreak is still growing, but slowing down.\n",
    "* A growth factor of 0 means there are no new cases.\n",
    "\n",
    "In this plot, the growth factor is averaged over 5 days to smooth out some large day-to-day variations. "
   ]
  },
  {
   "cell_type": "code",
   "execution_count": null,
   "metadata": {
    "ExecuteTime": {
     "start_time": "2020-03-29T23:58:33.298Z"
    },
    "scrolled": false
   },
   "outputs": [],
   "source": [
    "s=5\n",
    "countries_to_plot2 = [\"China\", \"South Korea\", \"United States\", \"Iran\", \n",
    "                      \"Italy\", \"Japan\", \"Germany\", \"France\", \"United Kingdom\", \n",
    "                      \"Netherlands\", \"All except China\", \"World\"]\n",
    "data.plot(\"day_number\", \"growth_factor\", countries_to_plot2, min_cases=500, sigma=s, \n",
    "          fixed_country_colors=False, use_log_scale=False)    "
   ]
  },
  {
   "cell_type": "markdown",
   "metadata": {},
   "source": [
    "### New confirmed/Active case ratio"
   ]
  },
  {
   "cell_type": "code",
   "execution_count": null,
   "metadata": {
    "ExecuteTime": {
     "start_time": "2020-03-29T23:58:33.302Z"
    }
   },
   "outputs": [],
   "source": [
    "data.plot(\"day_number\", \"new confirmed/active\", countries_to_plot2, min_cases=500, use_log_scale=1)"
   ]
  },
  {
   "cell_type": "markdown",
   "metadata": {},
   "source": [
    "### Stats for some other countries, using linear scale\n",
    "\n",
    "This shows how on a linear Y-axis, it becomes hard to examine the trend in all but the top few countries."
   ]
  },
  {
   "cell_type": "code",
   "execution_count": null,
   "metadata": {
    "ExecuteTime": {
     "start_time": "2020-03-29T23:58:33.304Z"
    }
   },
   "outputs": [],
   "source": [
    "for y_metric in [\"confirmed\", \"deaths\", \"active\"]:\n",
    "    data.plot(\"calendar_date\", y_metric, \n",
    "         [\"Belgium\", \"Brazil\", \"Finland\", \"Malaysia\", \"India\", \"Singapore\", \"Spain\", \"Vietnam\"],\n",
    "         use_log_scale=False)"
   ]
  },
  {
   "cell_type": "markdown",
   "metadata": {},
   "source": [
    "### Pie charts\n",
    "\n",
    "Everybody loves pie charts."
   ]
  },
  {
   "cell_type": "code",
   "execution_count": null,
   "metadata": {
    "ExecuteTime": {
     "start_time": "2020-03-29T23:58:33.315Z"
    },
    "scrolled": false
   },
   "outputs": [],
   "source": [
    "for mode in [\"country\", \"continent\"]:\n",
    "    data.plot_pie([\"confirmed cases\", \"deaths\", \"active cases\"], mode)"
   ]
  },
  {
   "cell_type": "markdown",
   "metadata": {},
   "source": [
    "### Country highlight"
   ]
  },
  {
   "cell_type": "code",
   "execution_count": null,
   "metadata": {
    "ExecuteTime": {
     "start_time": "2020-03-29T23:58:33.320Z"
    },
    "scrolled": false
   },
   "outputs": [],
   "source": [
    "data.country_highlight(\"United States\")"
   ]
  },
  {
   "cell_type": "markdown",
   "metadata": {},
   "source": [
    "## Forecast plots\n",
    "\n",
    "First, model the probability distribution of dying after a given number of days.\n",
    "\n",
    "We can consider a case recovered if they survive for a long enough time."
   ]
  },
  {
   "cell_type": "markdown",
   "metadata": {},
   "source": [
    "### Fit a logistic curve and extrapolate number of future cases\n",
    "\n",
    "This tries to fit a [logistic](https://en.wikipedia.org/wiki/Logistic_function) or 'S-shape' curve to the data so far. While it is reasonable to expect that the total number of cases in any epidemic will eventually roughly have such a shape, the crucial parameters are difficult to predict. For example, changes in spread rate due to policy changes, or the possibility of a second wave of infections from another country are not captured at all.\n",
    "\n",
    "For some countries the results look plausible enough, while for some others it can give extremely unlikely results, like predicting a number of cases that's many times the country's population."
   ]
  },
  {
   "cell_type": "code",
   "execution_count": null,
   "metadata": {
    "ExecuteTime": {
     "start_time": "2020-03-29T23:58:33.328Z"
    },
    "scrolled": false
   },
   "outputs": [],
   "source": [
    "data.curve_fit(\"United States\", days=100)\n",
    "data.curve_fit(\"Germany\", days=100)\n",
    "data.curve_fit(\"World\", days=100)"
   ]
  },
  {
   "cell_type": "markdown",
   "metadata": {
    "hide_input": false
   },
   "source": [
    "### Modelling fatality probability per day of being infected\n",
    "\n",
    "[Source](https://www.mdpi.com/2077-0383/9/2/538). This models the *hospitalization to death* distribution, because confirmed cases in the JHU dataset are not backdated to the onset of symptoms."
   ]
  },
  {
   "cell_type": "code",
   "execution_count": null,
   "metadata": {
    "ExecuteTime": {
     "start_time": "2020-03-29T23:58:33.331Z"
    },
    "code_folding": [],
    "hide_input": false,
    "scrolled": false
   },
   "outputs": [],
   "source": [
    "death_chance_per_day(cfr=0.04, s=1.75, mu=0.5, sigma=10, length=30, do_plot=True)"
   ]
  },
  {
   "cell_type": "markdown",
   "metadata": {},
   "source": [
    "### Generate history of active cases; how many people have been sick for how long?\n",
    "\n",
    "Data on **how long** people have been sick is not available, so it is reconstructed using the observed distribution of deaths by case duration."
   ]
  },
  {
   "cell_type": "code",
   "execution_count": null,
   "metadata": {
    "ExecuteTime": {
     "start_time": "2020-03-29T23:58:33.335Z"
    },
    "code_folding": [],
    "hide_input": false,
    "scrolled": false
   },
   "outputs": [],
   "source": [
    "data.simulate_country_history(country=\"United States\", history_length=7, show_result=True);"
   ]
  },
  {
   "cell_type": "markdown",
   "metadata": {},
   "source": [
    "### Simulate future development based on history and probability models\n",
    "\n",
    "This shows 3 simulations with the only difference being the effectiveness of lockdowns and other mitigation efforts.\n",
    "\n",
    "1. Effective lockdown: Assumes normal conditions at the start, followed by a quick and very strict lockdown for as long as it takes. This is the best case, but in my opinion somewhat unlikely.\n",
    "2. Ineffective lockdown: A late and halfhearted attempt at a lockdown is done, but the virus keeps spreading at a half speed. This would be pretty bad; most of the population would be infected before a vaccine is likely to be available.\n",
    "3.  Prolonged battle: Alternating periods of strict lockdowns with more relaxed periods softens the blow to the economy, and stalls the number of infections until a vaccine can hopefully be developed, or until eventually, herd immunity kicks in.\n",
    "\n",
    "Please note that this is *very* speculative, and highly dependent on:\n",
    "\n",
    "* The value chosen for the mitigation factor. Together with R<sub>0</sub>, this represents the effectives of quarantines, lockdowns and other countermeasures, and determines the effective reproductive rate R<sub>eff</sub> . If R<sub>0</sub> is 2, the mitigation factor is 0.8, and 98% of the population has not yet been infected,  \n",
    "R<sub>eff</sub> = 2 \\* 0.8 \\* 0.98 = 1.568,  \n",
    "meaning that effectively, every 1000 infected people will spread the disease to an average of 1568 uninfected people. \n",
    "<br><br>The input for mitigation factor is a list that gets interpolated to the same length as the number of days to simulate. <br><br>For example, simulating 5 days with a mitigation trend of `[1.0, 0.8]` will use growth rates of `[1.0, 0.95, 0.90, 0.85, 0.80]`.\n",
    "\n",
    "\n",
    "* The value chosen for case fatality rate (cfr); evidence so far suggests a range from 0.01 to 0.06\n",
    "\n",
    "\n",
    "Other limitations of the simulation:\n",
    "\n",
    "* Doesn't consider incubation time \n",
    "* Doesn't factor in international travel and potential recontamination/reseeding for second and later waves.\n",
    "* Doesn't consider effect on death rate when the number of active cases overwhelms capacity (**TODO**)"
   ]
  },
  {
   "cell_type": "code",
   "execution_count": null,
   "metadata": {
    "ExecuteTime": {
     "start_time": "2020-03-29T23:58:33.338Z"
    },
    "scrolled": false
   },
   "outputs": [],
   "source": [
    "M = 0.25              # mitigation effectiveness under major lockdown\n",
    "W = 0.50              # mitigation effectiveness under weak lockdown\n",
    "N = 1.00              # mitigation effectiveness under normal conditions\n",
    "\n",
    "scenarios = {\n",
    "    \"Effective lockdown\":   [W,M,M,M,M,M,M,M,M,M,M,M],\n",
    "    \"Ineffective lockdown\": [N,N,W],\n",
    "    \"Prolonged battle\":     [N,M,M,W,N,M,M,W,W,M,W,N]\n",
    "}\n",
    "\n",
    "scenario = \"Effective lockdown\"\n",
    "simulation = data.plot_simulation(country=\"United States\", days = 365, \n",
    "                                  mitigation_trend=scenarios[scenario], \n",
    "                                  cfr=0.04, r0=2.5, scenario_name=scenario)"
   ]
  },
  {
   "cell_type": "code",
   "execution_count": null,
   "metadata": {
    "ExecuteTime": {
     "start_time": "2020-03-29T23:58:33.349Z"
    }
   },
   "outputs": [],
   "source": [
    "scenario = \"Ineffective lockdown\"\n",
    "simulation = data.plot_simulation(country=\"United States\", days = 365,\n",
    "                                  mitigation_trend=scenarios[scenario], \n",
    "                                  cfr=0.04, r0=2.5, scenario_name=scenario)"
   ]
  },
  {
   "cell_type": "code",
   "execution_count": null,
   "metadata": {
    "ExecuteTime": {
     "start_time": "2020-03-29T23:58:33.351Z"
    }
   },
   "outputs": [],
   "source": [
    "scenario = \"Prolonged battle\"\n",
    "simulation = data.plot_simulation(country=\"United States\", days = 365, \n",
    "                                  mitigation_trend=scenarios[scenario], \n",
    "                                  cfr=0.04, r0=2.5, scenario_name=scenario)"
   ]
  }
 ],
 "metadata": {
  "kernelspec": {
   "display_name": "Python 3",
   "language": "python",
   "name": "python3"
  },
  "language_info": {
   "codemirror_mode": {
    "name": "ipython",
    "version": 3
   },
   "file_extension": ".py",
   "mimetype": "text/x-python",
   "name": "python",
   "nbconvert_exporter": "python",
   "pygments_lexer": "ipython3",
   "version": "3.7.1"
  },
  "toc": {
   "base_numbering": 1,
   "nav_menu": {},
   "number_sections": true,
   "sideBar": true,
   "skip_h1_title": true,
   "title_cell": "Contents",
   "title_sidebar": "Contents",
   "toc_cell": true,
   "toc_position": {
    "height": "calc(100% - 180px)",
    "left": "10px",
    "top": "150px",
    "width": "384px"
   },
   "toc_section_display": true,
   "toc_window_display": true
  },
  "widgets": {
   "application/vnd.jupyter.widget-state+json": {
    "state": {},
    "version_major": 2,
    "version_minor": 0
   }
  }
 },
 "nbformat": 4,
 "nbformat_minor": 2
}
