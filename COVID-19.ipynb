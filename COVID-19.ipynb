{
 "cells": [
  {
   "cell_type": "markdown",
   "metadata": {
    "toc": true
   },
   "source": [
    "<h1>Contents<span class=\"tocSkip\"></span></h1>\n",
    "<div class=\"toc\"><ul class=\"toc-item\"><li><span><a href=\"#Setup\" data-toc-modified-id=\"Setup-1\"><span class=\"toc-item-num\">1&nbsp;&nbsp;</span>Setup</a></span><ul class=\"toc-item\"><li><span><a href=\"#Process-and-add-up-all-provinces/states-into-one-row-per-country\" data-toc-modified-id=\"Process-and-add-up-all-provinces/states-into-one-row-per-country-1.1\"><span class=\"toc-item-num\">1.1&nbsp;&nbsp;</span>Process and add up all provinces/states into one row per country</a></span></li><li><span><a href=\"#List-of-all-affected-countries\" data-toc-modified-id=\"List-of-all-affected-countries-1.2\"><span class=\"toc-item-num\">1.2&nbsp;&nbsp;</span>List of all affected countries</a></span></li></ul></li><li><span><a href=\"#Current-situation-plots\" data-toc-modified-id=\"Current-situation-plots-2\"><span class=\"toc-item-num\">2&nbsp;&nbsp;</span>Current situation plots</a></span><ul class=\"toc-item\"><li><span><a href=\"#Plot-trends-over-calendar-date-in-selected-countries\" data-toc-modified-id=\"Plot-trends-over-calendar-date-in-selected-countries-2.1\"><span class=\"toc-item-num\">2.1&nbsp;&nbsp;</span>Plot trends over calendar date in selected countries</a></span></li><li><span><a href=\"#Plot-trends-over-days-since-start-of-local-outbreak-in-selected-countries\" data-toc-modified-id=\"Plot-trends-over-days-since-start-of-local-outbreak-in-selected-countries-2.2\"><span class=\"toc-item-num\">2.2&nbsp;&nbsp;</span>Plot trends over days since start of local outbreak in selected countries</a></span></li><li><span><a href=\"#Case-fatality-rate-per-country\" data-toc-modified-id=\"Case-fatality-rate-per-country-2.3\"><span class=\"toc-item-num\">2.3&nbsp;&nbsp;</span>Case fatality rate per country</a></span></li><li><span><a href=\"#Cases-by-continent\" data-toc-modified-id=\"Cases-by-continent-2.4\"><span class=\"toc-item-num\">2.4&nbsp;&nbsp;</span>Cases by continent</a></span></li><li><span><a href=\"#Smoothed-growth-factor\" data-toc-modified-id=\"Smoothed-growth-factor-2.5\"><span class=\"toc-item-num\">2.5&nbsp;&nbsp;</span>Smoothed growth factor</a></span></li><li><span><a href=\"#New-confirmed/Active-case-ratio\" data-toc-modified-id=\"New-confirmed/Active-case-ratio-2.6\"><span class=\"toc-item-num\">2.6&nbsp;&nbsp;</span>New confirmed/Active case ratio</a></span></li><li><span><a href=\"#Stats-for-some-other-countries,-using-linear-scale\" data-toc-modified-id=\"Stats-for-some-other-countries,-using-linear-scale-2.7\"><span class=\"toc-item-num\">2.7&nbsp;&nbsp;</span>Stats for some other countries, using linear scale</a></span></li><li><span><a href=\"#Pie-charts\" data-toc-modified-id=\"Pie-charts-2.8\"><span class=\"toc-item-num\">2.8&nbsp;&nbsp;</span>Pie charts</a></span></li><li><span><a href=\"#Country-highlight\" data-toc-modified-id=\"Country-highlight-2.9\"><span class=\"toc-item-num\">2.9&nbsp;&nbsp;</span>Country highlight</a></span></li></ul></li><li><span><a href=\"#Forecast-plots\" data-toc-modified-id=\"Forecast-plots-3\"><span class=\"toc-item-num\">3&nbsp;&nbsp;</span>Forecast plots</a></span><ul class=\"toc-item\"><li><span><a href=\"#Fit-a-logistic-curve-and-extrapolate-number-of-future-cases\" data-toc-modified-id=\"Fit-a-logistic-curve-and-extrapolate-number-of-future-cases-3.1\"><span class=\"toc-item-num\">3.1&nbsp;&nbsp;</span>Fit a logistic curve and extrapolate number of future cases</a></span></li><li><span><a href=\"#Modelling-fatality-probability-per-day-of-being-infected\" data-toc-modified-id=\"Modelling-fatality-probability-per-day-of-being-infected-3.2\"><span class=\"toc-item-num\">3.2&nbsp;&nbsp;</span>Modelling fatality probability per day of being infected</a></span></li><li><span><a href=\"#Generate-history-of-active-cases;-how-many-people-have-been-sick-for-how-long?\" data-toc-modified-id=\"Generate-history-of-active-cases;-how-many-people-have-been-sick-for-how-long?-3.3\"><span class=\"toc-item-num\">3.3&nbsp;&nbsp;</span>Generate history of active cases; how many people have been sick for how long?</a></span></li><li><span><a href=\"#Simulate-future-development-based-on-history-and-probability-models\" data-toc-modified-id=\"Simulate-future-development-based-on-history-and-probability-models-3.4\"><span class=\"toc-item-num\">3.4&nbsp;&nbsp;</span>Simulate future development based on history and probability models</a></span></li></ul></li></ul></div>"
   ]
  },
  {
   "cell_type": "markdown",
   "metadata": {
    "hide_input": false
   },
   "source": [
    "# COVID-19 data visualization\n",
    "\n",
    "This generates a series of visualizations from the raw data tables, showing some aspects of the ongoing Covid-19 epidemic that I couldn't find in other reports. Data from Johns Hopkins University.\n",
    "\n",
    "An earlier version of the plot of cases per country since the start of the local outbreak was shared on Reddit [here](https://www.reddit.com/r/dataisbeautiful/comments/ff9jn4/oc_number_of_cases_per_country_counting_from_the/).   Another plot, of the average growth factor per country, was posted [here](https://www.reddit.com/r/dataisbeautiful/comments/fliec2/oc_covid19_growth_factor_over_time_in_various/).\n",
    "\n",
    "Note that the Table of Contents links above don't work in the Github preview, but they do on [nbviewer](https://nbviewer.jupyter.org/github/JeroenKools/covid19/tree/master/).\n",
    "\n",
    "Want to see these graphs for some other countries, or modify the values for the simulations? The easiest and quickest way to run the notebook and make modifications yourself is to open this notebook in [Colab](https://colab.research.google.com/github/JeroenKools/covid19/blob/master/COVID-19.ipynb) or [Binder](https://hub-binder.mybinder.ovh/user/jeroenkools-covid19-wt257qfb/notebooks/COVID-19.ipynb)."
   ]
  },
  {
   "cell_type": "markdown",
   "metadata": {
    "hide_input": false
   },
   "source": [
    "## Setup"
   ]
  },
  {
   "cell_type": "markdown",
   "metadata": {},
   "source": [
    "Import code and parameters from [`covid19_util.py`](covid19_util.py) and [`covid_processing.py`](covid19_processing.py).\n",
    "\n",
    "Do some additional setup in case the notebook is being run on Google Colab."
   ]
  },
  {
   "cell_type": "code",
   "execution_count": 1,
   "metadata": {
    "ExecuteTime": {
     "end_time": "2020-03-30T05:50:12.260515Z",
     "start_time": "2020-03-30T05:50:12.179540Z"
    },
    "code_folding": [],
    "hide_input": false
   },
   "outputs": [
    {
     "ename": "SyntaxError",
     "evalue": "invalid syntax (covid19_util.py, line 21)",
     "output_type": "error",
     "traceback": [
      "Traceback \u001b[1;36m(most recent call last)\u001b[0m:\n",
      "  File \u001b[0;32m\"D:\\Programs\\Miniconda3\\envs\\covid19\\lib\\site-packages\\IPython\\core\\interactiveshell.py\"\u001b[0m, line \u001b[0;32m3331\u001b[0m, in \u001b[0;35mrun_code\u001b[0m\n    exec(code_obj, self.user_global_ns, self.user_ns)\n",
      "\u001b[1;36m  File \u001b[1;32m\"<ipython-input-1-8a8201eafdd7>\"\u001b[1;36m, line \u001b[1;32m18\u001b[1;36m, in \u001b[1;35m<module>\u001b[1;36m\u001b[0m\n\u001b[1;33m    from covid19_util import *\u001b[0m\n",
      "\u001b[1;36m  File \u001b[1;32m\"D:\\dev\\covid19\\covid19_util.py\"\u001b[1;36m, line \u001b[1;32m21\u001b[0m\n\u001b[1;33m    !git clone https://github.com/JeroenKools/covid19.git\u001b[0m\n\u001b[1;37m    ^\u001b[0m\n\u001b[1;31mSyntaxError\u001b[0m\u001b[1;31m:\u001b[0m invalid syntax\n"
     ]
    }
   ],
   "source": [
    "%load_ext autoreload\n",
    "%autoreload 2\n",
    "import sys\n",
    "is_colab = 'google.colab' in sys.modules\n",
    "if is_colab:\n",
    "    if not \"covid19\" in sys.path:\n",
    "        try:\n",
    "            !git clone https://github.com/JeroenKools/covid19.git\n",
    "        except e: \n",
    "            pass\n",
    "    try:\n",
    "        import geonamescache\n",
    "    except ModuleNotFoundError:\n",
    "        !pip install geonamescache\n",
    "        import geonamescache\n",
    "    sys.path.append(\"covid19\")\n",
    "    \n",
    "from covid19_util import *\n",
    "from covid19_processing import *"
   ]
  },
  {
   "cell_type": "code",
   "execution_count": 2,
   "metadata": {
    "ExecuteTime": {
     "end_time": "2020-03-30T05:50:12.468448Z",
     "start_time": "2020-03-30T05:50:12.365482Z"
    },
    "code_folding": [],
    "hide_input": false
   },
   "outputs": [
    {
     "ename": "NameError",
     "evalue": "name 'Covid19Processing' is not defined",
     "output_type": "error",
     "traceback": [
      "\u001b[1;31m---------------------------------------------------------------------------\u001b[0m",
      "\u001b[1;31mNameError\u001b[0m                                 Traceback (most recent call last)",
      "\u001b[1;32m<ipython-input-2-25442a80c79b>\u001b[0m in \u001b[0;36m<module>\u001b[1;34m\u001b[0m\n\u001b[1;32m----> 1\u001b[1;33m \u001b[0mdata\u001b[0m \u001b[1;33m=\u001b[0m \u001b[0mCovid19Processing\u001b[0m\u001b[1;33m(\u001b[0m\u001b[1;33m)\u001b[0m\u001b[1;33m\u001b[0m\u001b[1;33m\u001b[0m\u001b[0m\n\u001b[0m",
      "\u001b[1;31mNameError\u001b[0m: name 'Covid19Processing' is not defined"
     ]
    }
   ],
   "source": [
    "data = Covid19Processing()"
   ]
  },
  {
   "cell_type": "markdown",
   "metadata": {},
   "source": [
    "### Process and add up all provinces/states into one row per country \n",
    "\n",
    "This also adds in a few data points for China from before the start of the Johns Hopkins data, from [Wikipedia](https://en.wikipedia.org/wiki/Timeline_of_the_2019%E2%80%9320_coronavirus_outbreak_in_December_2019_%E2%80%93_January_2020).\n",
    "\n",
    "Then, display summaries of the confirmed cases by country and by continent."
   ]
  },
  {
   "cell_type": "code",
   "execution_count": null,
   "metadata": {
    "ExecuteTime": {
     "end_time": "2020-03-30T05:50:12.470448Z",
     "start_time": "2020-03-30T05:50:12.280Z"
    },
    "code_folding": [],
    "hide_input": false,
    "scrolled": false
   },
   "outputs": [],
   "source": [
    "data.process(rows=20, debug=False)"
   ]
  },
  {
   "cell_type": "markdown",
   "metadata": {},
   "source": [
    "### List of all affected countries"
   ]
  },
  {
   "cell_type": "code",
   "execution_count": null,
   "metadata": {
    "ExecuteTime": {
     "end_time": "2020-03-30T05:50:12.471447Z",
     "start_time": "2020-03-30T05:50:12.285Z"
    },
    "code_folding": [],
    "hide_input": false
   },
   "outputs": [],
   "source": [
    "data.list_countries()"
   ]
  },
  {
   "cell_type": "markdown",
   "metadata": {},
   "source": [
    "## Current situation plots"
   ]
  },
  {
   "cell_type": "markdown",
   "metadata": {},
   "source": [
    "### Plot trends over calendar date in selected countries"
   ]
  },
  {
   "cell_type": "code",
   "execution_count": null,
   "metadata": {
    "ExecuteTime": {
     "end_time": "2020-03-30T05:50:12.473447Z",
     "start_time": "2020-03-30T05:50:12.288Z"
    },
    "scrolled": false
   },
   "outputs": [],
   "source": [
    "countries_to_plot = [\"China\", \"Japan\", \"South Korea\", \"United States\", \"Italy\", \"Iran\", \"Germany\",\n",
    "                     \"France\", \"Spain\", \"Netherlands\", \"United Kingdom\", \"World\"]\n",
    "\n",
    "for y_metric in [\"confirmed\", \"deaths\", \"active\"]:\n",
    "    data.plot(\"calendar_date\", y_metric, countries_to_plot)"
   ]
  },
  {
   "cell_type": "markdown",
   "metadata": {},
   "source": [
    "### Plot trends over days since start of local outbreak in selected countries"
   ]
  },
  {
   "cell_type": "code",
   "execution_count": null,
   "metadata": {
    "ExecuteTime": {
     "end_time": "2020-03-30T05:50:12.474446Z",
     "start_time": "2020-03-30T05:50:12.292Z"
    },
    "scrolled": false
   },
   "outputs": [],
   "source": [
    "data.plot(\"day_number\", \"confirmed\", countries_to_plot, min_cases=100)\n",
    "data.plot(\"day_number\", \"deaths\", countries_to_plot, min_cases=3)\n",
    "data.plot(\"day_number\", \"active\", countries_to_plot, min_cases=40)"
   ]
  },
  {
   "cell_type": "markdown",
   "metadata": {},
   "source": [
    "### Case fatality rate per country"
   ]
  },
  {
   "cell_type": "code",
   "execution_count": null,
   "metadata": {
    "ExecuteTime": {
     "end_time": "2020-03-30T05:50:12.476446Z",
     "start_time": "2020-03-30T05:50:12.295Z"
    },
    "scrolled": false
   },
   "outputs": [],
   "source": [
    "data.plot(\"day_number\", \"deaths/confirmed\", countries_to_plot, min_cases=100, use_log_scale=False)"
   ]
  },
  {
   "cell_type": "markdown",
   "metadata": {},
   "source": [
    "### Cases by continent"
   ]
  },
  {
   "cell_type": "code",
   "execution_count": null,
   "metadata": {
    "ExecuteTime": {
     "end_time": "2020-03-30T05:50:12.478445Z",
     "start_time": "2020-03-30T05:50:12.299Z"
    },
    "scrolled": false
   },
   "outputs": [],
   "source": [
    "continents = [\"Asia\", \"Europe\", \"Africa\", \"North America\", \"South America\", \"Oceania\"]\n",
    "\n",
    "for y_metric in [\"confirmed\", \"deaths\", \"active\", \"new confirmed\"]:\n",
    "    data.plot(\"calendar_date\", y_metric, continents, fixed_country_colors=False)"
   ]
  },
  {
   "cell_type": "markdown",
   "metadata": {},
   "source": [
    "### Smoothed growth factor\n",
    "\n",
    "The growth factor is the multiplier for the number of **new** cases per day. <br>For example, if there are 100 new cases on day *n* and 150 new cases on day *n+1*, the growth factor is 1.5.\n",
    "\n",
    "* A growth factor larger than 1 means the outbreak is accelerating; it is growing exponentially.\n",
    "* A growth factor of 1 means the outbreak is growing linearly.\n",
    "* A growth factor of less than 1 means the outbreak is still growing, but slowing down.\n",
    "* A growth factor of 0 means there are no new cases.\n",
    "\n",
    "In this plot, the growth factor is averaged over 5 days to smooth out some large day-to-day variations. "
   ]
  },
  {
   "cell_type": "code",
   "execution_count": null,
   "metadata": {
    "ExecuteTime": {
     "end_time": "2020-03-30T05:50:12.479444Z",
     "start_time": "2020-03-30T05:50:12.302Z"
    },
    "scrolled": false
   },
   "outputs": [],
   "source": [
    "data.plot(\"day_number\", \"growth_factor\", countries_to_plot, min_cases=500, sigma=5, \n",
    "          fixed_country_colors=False, use_log_scale=False)    "
   ]
  },
  {
   "cell_type": "markdown",
   "metadata": {},
   "source": [
    "### New confirmed/Active case ratio"
   ]
  },
  {
   "cell_type": "code",
   "execution_count": null,
   "metadata": {
    "ExecuteTime": {
     "end_time": "2020-03-30T05:50:12.480444Z",
     "start_time": "2020-03-30T05:50:12.305Z"
    }
   },
   "outputs": [],
   "source": [
    "data.plot(\"day_number\", \"new confirmed/active\", countries_to_plot, min_cases=500, use_log_scale=1)"
   ]
  },
  {
   "cell_type": "markdown",
   "metadata": {},
   "source": [
    "### Stats for some other countries, using linear scale\n",
    "\n",
    "This shows how on a linear Y-axis, it becomes hard to examine the trend in all but the top few countries."
   ]
  },
  {
   "cell_type": "code",
   "execution_count": null,
   "metadata": {
    "ExecuteTime": {
     "end_time": "2020-03-30T05:50:12.481445Z",
     "start_time": "2020-03-30T05:50:12.307Z"
    }
   },
   "outputs": [],
   "source": [
    "for y_metric in [\"confirmed\", \"deaths\", \"active\"]:\n",
    "    data.plot(\"calendar_date\", y_metric, \n",
    "         [\"Belgium\", \"Brazil\", \"Finland\", \"Malaysia\", \"India\", \"Singapore\", \"Spain\", \"Vietnam\"],\n",
    "         use_log_scale=False)"
   ]
  },
  {
   "cell_type": "markdown",
   "metadata": {},
   "source": [
    "### Pie charts\n",
    "\n",
    "Everybody loves pie charts."
   ]
  },
  {
   "cell_type": "code",
   "execution_count": null,
   "metadata": {
    "ExecuteTime": {
     "end_time": "2020-03-30T05:50:12.482443Z",
     "start_time": "2020-03-30T05:50:12.309Z"
    },
    "scrolled": false
   },
   "outputs": [],
   "source": [
    "for mode in [\"country\", \"continent\"]:\n",
    "    data.plot_pie([\"confirmed cases\", \"deaths\", \"active cases\"], mode)"
   ]
  },
  {
   "cell_type": "markdown",
   "metadata": {},
   "source": [
    "### Country highlight"
   ]
  },
  {
   "cell_type": "code",
   "execution_count": null,
   "metadata": {
    "ExecuteTime": {
     "end_time": "2020-03-30T05:50:12.484443Z",
     "start_time": "2020-03-30T05:50:12.313Z"
    },
    "scrolled": false
   },
   "outputs": [],
   "source": [
    "data.country_highlight(\"United States\")"
   ]
  },
  {
   "cell_type": "markdown",
   "metadata": {},
   "source": [
    "## Forecast plots\n",
    "\n",
    "First, model the probability distribution of dying after a given number of days.\n",
    "\n",
    "We can consider a case recovered if they survive for a long enough time."
   ]
  },
  {
   "cell_type": "markdown",
   "metadata": {},
   "source": [
    "### Fit a logistic curve and extrapolate number of future cases\n",
    "\n",
    "This tries to fit a [logistic](https://en.wikipedia.org/wiki/Logistic_function) or 'S-shape' curve to the data so far. While it is reasonable to expect that the total number of cases in any epidemic will eventually roughly have such a shape, the crucial parameters are difficult to predict. For example, changes in spread rate due to policy changes, or the possibility of a second wave of infections from another country are not captured at all.\n",
    "\n",
    "For some countries the results look plausible enough, while for some others it can give extremely unlikely results, like predicting a number of cases that's many times the country's population."
   ]
  },
  {
   "cell_type": "code",
   "execution_count": null,
   "metadata": {
    "ExecuteTime": {
     "end_time": "2020-03-30T05:50:12.485443Z",
     "start_time": "2020-03-30T05:50:12.319Z"
    },
    "scrolled": false
   },
   "outputs": [],
   "source": [
    "data.curve_fit(\"United States\", days=100)\n",
    "data.curve_fit(\"Germany\", days=100)\n",
    "data.curve_fit(\"World\", days=100)"
   ]
  },
  {
   "cell_type": "markdown",
   "metadata": {
    "hide_input": false
   },
   "source": [
    "### Modelling fatality probability per day of being infected\n",
    "\n",
    "[Source](https://www.mdpi.com/2077-0383/9/2/538). This models the *hospitalization to death* distribution, because confirmed cases in the JHU dataset are not backdated to the onset of symptoms."
   ]
  },
  {
   "cell_type": "code",
   "execution_count": null,
   "metadata": {
    "ExecuteTime": {
     "end_time": "2020-03-30T05:50:12.486442Z",
     "start_time": "2020-03-30T05:50:12.322Z"
    },
    "code_folding": [],
    "hide_input": false,
    "scrolled": false
   },
   "outputs": [],
   "source": [
    "death_chance_per_day(cfr=0.04, s=1.75, mu=0.5, sigma=10, length=30, do_plot=True)"
   ]
  },
  {
   "cell_type": "markdown",
   "metadata": {},
   "source": [
    "### Generate history of active cases; how many people have been sick for how long?\n",
    "\n",
    "Data on **how long** people have been sick is not available, so it is reconstructed using the observed distribution of deaths by case duration."
   ]
  },
  {
   "cell_type": "code",
   "execution_count": null,
   "metadata": {
    "ExecuteTime": {
     "end_time": "2020-03-30T05:50:12.491441Z",
     "start_time": "2020-03-30T05:50:12.328Z"
    },
    "code_folding": [],
    "hide_input": false,
    "scrolled": false
   },
   "outputs": [],
   "source": [
    "data.simulate_country_history(country=\"United States\", history_length=7, show_result=True);"
   ]
  },
  {
   "cell_type": "markdown",
   "metadata": {},
   "source": [
    "### Simulate future development based on history and probability models\n",
    "\n",
    "This shows 3 simulations with the only difference being the effectiveness of lockdowns and other mitigation efforts.\n",
    "\n",
    "1. Effective lockdown: Assumes normal conditions at the start, followed by a quick and very strict lockdown for as long as it takes. This is the best case, but in my opinion somewhat unlikely.\n",
    "2. Ineffective lockdown: A late and halfhearted attempt at a lockdown is done, but the virus keeps spreading at a half speed. This would be pretty bad; most of the population would be infected before a vaccine is likely to be available.\n",
    "3.  Prolonged battle: Alternating periods of strict lockdowns with more relaxed periods softens the blow to the economy, and stalls the number of infections until a vaccine can hopefully be developed, or until eventually, herd immunity kicks in.\n",
    "\n",
    "Please note that this is *very* speculative, and highly dependent on:\n",
    "\n",
    "* The value chosen for the mitigation factor. Together with R<sub>0</sub>, this represents the reduction in spread based on the effectives of quarantines, lockdowns and other countermeasures, and determines the effective reproductive rate R<sub>eff</sub> . For example, a mitigation factor of 0.7 means the disease spreads 70% as fast as it would without any countermeasures. If R<sub>0</sub> is 2, the mitigation factor is 0.8, and 98% of the population has not yet been infected,  \n",
    "R<sub>eff</sub> = 2 \\* 0.8 \\* 0.98 = 1.568,  \n",
    "meaning that effectively, every 1000 infected people will spread the disease to an average of 1568 uninfected people. \n",
    "<br><br>The input for mitigation factor is a list that gets interpolated to the same length as the number of days to simulate. <br><br>For example, simulating 5 days with a mitigation trend of `[1.0, 0.8]` will use growth rates of `[1.0, 0.95, 0.90, 0.85, 0.80]`.\n",
    "\n",
    "\n",
    "* The value chosen for case fatality rate (cfr); evidence so far suggests a range from 0.01 to 0.06\n",
    "\n",
    "\n",
    "Other limitations of the simulation:\n",
    "\n",
    "* Doesn't consider incubation time \n",
    "* Doesn't factor in international travel and potential recontamination/reseeding for second and later waves.\n",
    "* Doesn't consider effect on death rate when the number of active cases overwhelms capacity (**TODO**)"
   ]
  },
  {
   "cell_type": "code",
   "execution_count": null,
   "metadata": {
    "ExecuteTime": {
     "end_time": "2020-03-30T05:50:12.493441Z",
     "start_time": "2020-03-30T05:50:12.334Z"
    },
    "scrolled": false
   },
   "outputs": [],
   "source": [
    "S = 0.20              # mitigation effectiveness under severe lockdown\n",
    "M = 0.30              # mitigation effectiveness under moderate lockdown\n",
    "W = 0.50              # mitigation effectiveness under weak lockdown\n",
    "N = 1.00              # mitigation effectiveness under normal conditions\n",
    "\n",
    "cfr = 0.06 # https://arxiv.org/abs/2003.09320\n",
    "r0 = 3.1   # https://arxiv.org/abs/2003.09320\n",
    "\n",
    "scenarios = {\n",
    "    \"Effective lockdown\":   [S,S,S,S,M,M,M,M,M,M,M,M],\n",
    "    \"Ineffective lockdown\": [N,W,W,W],\n",
    "    \"Prolonged battle\":     [M,M,W,S,M,M,W,S,M,M,W,S]\n",
    "}\n",
    "\n",
    "scenario = \"Effective lockdown\"\n",
    "simulation = data.plot_simulation(country=\"United States\", days = 365, \n",
    "                                  mitigation_trend=scenarios[scenario], \n",
    "                                  cfr=cfr, r0=r0, scenario_name=scenario)"
   ]
  },
  {
   "cell_type": "code",
   "execution_count": null,
   "metadata": {
    "ExecuteTime": {
     "end_time": "2020-03-30T05:50:12.498439Z",
     "start_time": "2020-03-30T05:50:12.337Z"
    }
   },
   "outputs": [],
   "source": [
    "scenario = \"Ineffective lockdown\"\n",
    "simulation = data.plot_simulation(country=\"United States\", days = 365,\n",
    "                                  mitigation_trend=scenarios[scenario], \n",
    "                                  cfr=0.06, r0=3.1, scenario_name=scenario)"
   ]
  },
  {
   "cell_type": "code",
   "execution_count": null,
   "metadata": {
    "ExecuteTime": {
     "end_time": "2020-03-30T05:50:12.501437Z",
     "start_time": "2020-03-30T05:50:12.340Z"
    }
   },
   "outputs": [],
   "source": [
    "scenario = \"Prolonged battle\"\n",
    "simulation = data.plot_simulation(country=\"United States\", days = 365, \n",
    "                                  mitigation_trend=scenarios[scenario], \n",
    "                                  cfr=0.06, r0=3.1, scenario_name=scenario)"
   ]
  }
 ],
 "metadata": {
  "kernelspec": {
   "display_name": "Python 3",
   "language": "python",
   "name": "python3"
  },
  "language_info": {
   "codemirror_mode": {
    "name": "ipython",
    "version": 3
   },
   "file_extension": ".py",
   "mimetype": "text/x-python",
   "name": "python",
   "nbconvert_exporter": "python",
   "pygments_lexer": "ipython3",
   "version": "3.7.1"
  },
  "toc": {
   "base_numbering": 1,
   "nav_menu": {},
   "number_sections": true,
   "sideBar": true,
   "skip_h1_title": true,
   "title_cell": "Contents",
   "title_sidebar": "Contents",
   "toc_cell": true,
   "toc_position": {
    "height": "calc(100% - 180px)",
    "left": "10px",
    "top": "150px",
    "width": "384px"
   },
   "toc_section_display": true,
   "toc_window_display": true
  },
  "widgets": {
   "application/vnd.jupyter.widget-state+json": {
    "state": {},
    "version_major": 2,
    "version_minor": 0
   }
  }
 },
 "nbformat": 4,
 "nbformat_minor": 2
}
